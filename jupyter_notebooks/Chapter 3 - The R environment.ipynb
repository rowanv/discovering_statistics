{
 "cells": [
  {
   "cell_type": "markdown",
   "id": "b1c2c332",
   "metadata": {},
   "source": [
    "# Chapter 3\n",
    "### The R environment\n",
    "\n",
    "Which we will, of course, be going through in Python!"
   ]
  },
  {
   "cell_type": "code",
   "execution_count": 6,
   "id": "949d2464",
   "metadata": {},
   "outputs": [],
   "source": [
    "import pandas as pd"
   ]
  },
  {
   "cell_type": "markdown",
   "id": "abcd751c",
   "metadata": {},
   "source": [
    "Parts 3.1 to 3.4: R setup, installing packages, etc. "
   ]
  },
  {
   "cell_type": "markdown",
   "id": "133243fd",
   "metadata": {},
   "source": [
    "3.5 : Creating variables"
   ]
  },
  {
   "cell_type": "code",
   "execution_count": 10,
   "id": "c1c976d5",
   "metadata": {},
   "outputs": [
    {
     "data": {
      "text/plain": [
       "['Lars', 'James', 'Kirk', 'Rob']"
      ]
     },
     "execution_count": 10,
     "metadata": {},
     "output_type": "execute_result"
    }
   ],
   "source": [
    "metallica_names = ['Lars', 'James', 'Kirk', 'Rob']\n",
    "metallica_names"
   ]
  },
  {
   "cell_type": "code",
   "execution_count": 11,
   "id": "b0279f38",
   "metadata": {},
   "outputs": [
    {
     "data": {
      "text/plain": [
       "[47, 47, 48, 46]"
      ]
     },
     "execution_count": 11,
     "metadata": {},
     "output_type": "execute_result"
    }
   ],
   "source": [
    "metallica_ages = [47, 47, 48, 46]\n",
    "metallica_ages"
   ]
  },
  {
   "cell_type": "markdown",
   "id": "e57cc289",
   "metadata": {},
   "source": [
    "Though, of course, a better data structure would be a dictionary in this case. Let's use it to create our df:"
   ]
  },
  {
   "cell_type": "code",
   "execution_count": 15,
   "id": "17551177",
   "metadata": {},
   "outputs": [
    {
     "data": {
      "text/html": [
       "<div>\n",
       "<style scoped>\n",
       "    .dataframe tbody tr th:only-of-type {\n",
       "        vertical-align: middle;\n",
       "    }\n",
       "\n",
       "    .dataframe tbody tr th {\n",
       "        vertical-align: top;\n",
       "    }\n",
       "\n",
       "    .dataframe thead th {\n",
       "        text-align: right;\n",
       "    }\n",
       "</style>\n",
       "<table border=\"1\" class=\"dataframe\">\n",
       "  <thead>\n",
       "    <tr style=\"text-align: right;\">\n",
       "      <th></th>\n",
       "      <th>Name</th>\n",
       "      <th>Age</th>\n",
       "    </tr>\n",
       "  </thead>\n",
       "  <tbody>\n",
       "    <tr>\n",
       "      <th>0</th>\n",
       "      <td>Lars</td>\n",
       "      <td>47</td>\n",
       "    </tr>\n",
       "    <tr>\n",
       "      <th>1</th>\n",
       "      <td>James</td>\n",
       "      <td>47</td>\n",
       "    </tr>\n",
       "    <tr>\n",
       "      <th>2</th>\n",
       "      <td>Kirk</td>\n",
       "      <td>48</td>\n",
       "    </tr>\n",
       "    <tr>\n",
       "      <th>3</th>\n",
       "      <td>Rob</td>\n",
       "      <td>46</td>\n",
       "    </tr>\n",
       "  </tbody>\n",
       "</table>\n",
       "</div>"
      ],
      "text/plain": [
       "    Name  Age\n",
       "0   Lars   47\n",
       "1  James   47\n",
       "2   Kirk   48\n",
       "3    Rob   46"
      ]
     },
     "execution_count": 15,
     "metadata": {},
     "output_type": "execute_result"
    }
   ],
   "source": [
    "metallica_df = pd.DataFrame({\n",
    "    'Name': metallica_names,\n",
    "    'Age': metallica_ages\n",
    "})\n",
    "metallica_df"
   ]
  },
  {
   "cell_type": "code",
   "execution_count": 16,
   "id": "02ef086b",
   "metadata": {},
   "outputs": [
    {
     "data": {
      "text/plain": [
       "0     Lars\n",
       "1    James\n",
       "2     Kirk\n",
       "3      Rob\n",
       "Name: Name, dtype: object"
      ]
     },
     "execution_count": 16,
     "metadata": {},
     "output_type": "execute_result"
    }
   ],
   "source": [
    "metallica_df['Name']"
   ]
  },
  {
   "cell_type": "code",
   "execution_count": 18,
   "id": "93843f6d",
   "metadata": {},
   "outputs": [
    {
     "data": {
      "text/plain": [
       "'    Name  Age\\n0   Lars   47\\n1  James   47\\n2   Kirk   48\\n3    Rob   46'"
      ]
     },
     "execution_count": 18,
     "metadata": {},
     "output_type": "execute_result"
    }
   ],
   "source": [
    "metallica_df.descri"
   ]
  },
  {
   "cell_type": "code",
   "execution_count": 7,
   "id": "41783379",
   "metadata": {},
   "outputs": [],
   "source": [
    "DATA_URLS = {\n",
    "    'Lecturer Data': 'https://studysites.uk.sagepub.com/dsur/study/DSUR%20Data%20Files/Chapter%203/Lecturer%20Data.dat'\n",
    "}\n",
    "\n",
    "df_lecturer_data = pd.read_csv(DATA_URLS['Lecturer Data'], sep='\\t')"
   ]
  },
  {
   "cell_type": "code",
   "execution_count": null,
   "id": "56bc0b59",
   "metadata": {},
   "outputs": [],
   "source": []
  },
  {
   "cell_type": "code",
   "execution_count": 8,
   "id": "2321ab14",
   "metadata": {},
   "outputs": [
    {
     "data": {
      "text/html": [
       "<div>\n",
       "<style scoped>\n",
       "    .dataframe tbody tr th:only-of-type {\n",
       "        vertical-align: middle;\n",
       "    }\n",
       "\n",
       "    .dataframe tbody tr th {\n",
       "        vertical-align: top;\n",
       "    }\n",
       "\n",
       "    .dataframe thead th {\n",
       "        text-align: right;\n",
       "    }\n",
       "</style>\n",
       "<table border=\"1\" class=\"dataframe\">\n",
       "  <thead>\n",
       "    <tr style=\"text-align: right;\">\n",
       "      <th></th>\n",
       "      <th>name</th>\n",
       "      <th>birth_date</th>\n",
       "      <th>job</th>\n",
       "      <th>friends</th>\n",
       "      <th>alcohol</th>\n",
       "      <th>income</th>\n",
       "      <th>neurotic</th>\n",
       "    </tr>\n",
       "  </thead>\n",
       "  <tbody>\n",
       "    <tr>\n",
       "      <th>0</th>\n",
       "      <td>Ben</td>\n",
       "      <td>7/3/1977</td>\n",
       "      <td>1</td>\n",
       "      <td>5</td>\n",
       "      <td>10</td>\n",
       "      <td>20000</td>\n",
       "      <td>10</td>\n",
       "    </tr>\n",
       "    <tr>\n",
       "      <th>1</th>\n",
       "      <td>Martin</td>\n",
       "      <td>5/24/1969</td>\n",
       "      <td>1</td>\n",
       "      <td>2</td>\n",
       "      <td>15</td>\n",
       "      <td>40000</td>\n",
       "      <td>17</td>\n",
       "    </tr>\n",
       "    <tr>\n",
       "      <th>2</th>\n",
       "      <td>Andy</td>\n",
       "      <td>6/21/1973</td>\n",
       "      <td>1</td>\n",
       "      <td>0</td>\n",
       "      <td>20</td>\n",
       "      <td>35000</td>\n",
       "      <td>14</td>\n",
       "    </tr>\n",
       "    <tr>\n",
       "      <th>3</th>\n",
       "      <td>Paul</td>\n",
       "      <td>7/16/1970</td>\n",
       "      <td>1</td>\n",
       "      <td>4</td>\n",
       "      <td>5</td>\n",
       "      <td>22000</td>\n",
       "      <td>13</td>\n",
       "    </tr>\n",
       "    <tr>\n",
       "      <th>4</th>\n",
       "      <td>Graham</td>\n",
       "      <td>10/10/1949</td>\n",
       "      <td>1</td>\n",
       "      <td>1</td>\n",
       "      <td>30</td>\n",
       "      <td>50000</td>\n",
       "      <td>21</td>\n",
       "    </tr>\n",
       "  </tbody>\n",
       "</table>\n",
       "</div>"
      ],
      "text/plain": [
       "     name  birth_date  job  friends  alcohol  income  neurotic\n",
       "0     Ben    7/3/1977    1        5       10   20000        10\n",
       "1  Martin   5/24/1969    1        2       15   40000        17\n",
       "2    Andy   6/21/1973    1        0       20   35000        14\n",
       "3    Paul   7/16/1970    1        4        5   22000        13\n",
       "4  Graham  10/10/1949    1        1       30   50000        21"
      ]
     },
     "execution_count": 8,
     "metadata": {},
     "output_type": "execute_result"
    }
   ],
   "source": [
    "df_lecturer_data.head()"
   ]
  },
  {
   "cell_type": "code",
   "execution_count": null,
   "id": "c47b9f89",
   "metadata": {},
   "outputs": [],
   "source": []
  }
 ],
 "metadata": {
  "kernelspec": {
   "display_name": "Python 3 (ipykernel)",
   "language": "python",
   "name": "python3"
  },
  "language_info": {
   "codemirror_mode": {
    "name": "ipython",
    "version": 3
   },
   "file_extension": ".py",
   "mimetype": "text/x-python",
   "name": "python",
   "nbconvert_exporter": "python",
   "pygments_lexer": "ipython3",
   "version": "3.9.6"
  }
 },
 "nbformat": 4,
 "nbformat_minor": 5
}
